{
 "cells": [
  {
   "cell_type": "markdown",
   "metadata": {},
   "source": [
    "# Demos of IJavascriptEX %magic and other commands"
   ]
  },
  {
   "cell_type": "markdown",
   "metadata": {},
   "source": [
    "## %magic"
   ]
  },
  {
   "cell_type": "code",
   "execution_count": 1,
   "metadata": {},
   "outputs": [
    {
     "name": "stdout",
     "output_type": "stream",
     "text": [
      "hi there\n"
     ]
    }
   ],
   "source": [
    "%echo hi there"
   ]
  },
  {
   "cell_type": "markdown",
   "metadata": {},
   "source": [
    "Note that duplicate spaces are removed before being passed to the magic"
   ]
  },
  {
   "cell_type": "code",
   "execution_count": 2,
   "metadata": {
    "scrolled": true
   },
   "outputs": [
    {
     "name": "stdout",
     "output_type": "stream",
     "text": [
      "hi there\n"
     ]
    }
   ],
   "source": [
    "%echo    hi    there    "
   ]
  },
  {
   "cell_type": "markdown",
   "metadata": {},
   "source": [
    "## %addcmd"
   ]
  },
  {
   "cell_type": "markdown",
   "metadata": {},
   "source": [
    "Adds a new magic command. Syntax is `%addcmd cmdname fnname`.  `cmdname` must start with a symbol like `%` or `.`, and `fnname` is a string that is the name of a function. `fnname` is not checked to see if it exists until the magic is called."
   ]
  },
  {
   "cell_type": "code",
   "execution_count": 3,
   "metadata": {},
   "outputs": [
    {
     "name": "stdout",
     "output_type": "stream",
     "text": [
      "added command: '%foo' which will call function 'bar'\n"
     ]
    }
   ],
   "source": [
    "%addcmd %foo bar"
   ]
  },
  {
   "cell_type": "code",
   "execution_count": 4,
   "metadata": {},
   "outputs": [],
   "source": [
    "function bar() {\n",
    "    console.log(\"LETS ALL GO TO THE BAR\");\n",
    "}"
   ]
  },
  {
   "cell_type": "code",
   "execution_count": 5,
   "metadata": {},
   "outputs": [
    {
     "name": "stdout",
     "output_type": "stream",
     "text": [
      "LETS ALL GO TO THE BAR\n"
     ]
    }
   ],
   "source": [
    "%foo"
   ]
  },
  {
   "cell_type": "code",
   "execution_count": 6,
   "metadata": {},
   "outputs": [],
   "source": [
    "function sayMyName(cmd, name) {\n",
    "    console.log(\"my name is:\", name);\n",
    "}"
   ]
  },
  {
   "cell_type": "code",
   "execution_count": 7,
   "metadata": {},
   "outputs": [
    {
     "name": "stdout",
     "output_type": "stream",
     "text": [
      "added command: '%name' which will call function 'sayMyName'\n"
     ]
    }
   ],
   "source": [
    "%addcmd %name sayMyName"
   ]
  },
  {
   "cell_type": "code",
   "execution_count": 8,
   "metadata": {},
   "outputs": [
    {
     "name": "stdout",
     "output_type": "stream",
     "text": [
      "my name is: mud\n"
     ]
    }
   ],
   "source": [
    "%name mud"
   ]
  },
  {
   "cell_type": "markdown",
   "metadata": {},
   "source": [
    "## !exec"
   ]
  },
  {
   "cell_type": "code",
   "execution_count": 9,
   "metadata": {},
   "outputs": [
    {
     "name": "stdout",
     "output_type": "stream",
     "text": [
      "total 200\n",
      "drwxr-xr-x  16 ampower  staff    512 Nov 27 15:37 ./\n",
      "drwxr-xr-x  25 ampower  staff    800 Nov 27 15:23 ../\n",
      "drwxr-xr-x   3 ampower  staff     96 Nov 27 15:27 .ipynb_checkpoints/\n",
      "-rw-r--r--   1 ampower  staff   7162 Nov 23 22:21 async.ipynb\n",
      "-rw-r--r--   1 ampower  staff    548 Nov 23 22:21 complete.md\n",
      "-rw-r--r--   1 ampower  staff  14345 Nov 23 22:21 custom.ipynb\n",
      "-rw-r--r--   1 ampower  staff   3041 Nov 23 22:21 hello.ipynb\n",
      "-rw-r--r--   1 ampower  staff    491 Nov 23 22:21 inspect.md\n",
      "-rw-r--r--   1 ampower  staff   8001 Nov 23 22:21 install.md\n",
      "-rw-r--r--   1 ampower  staff  27117 Nov 27 15:37 magicdemo.ipynb\n",
      "-rw-r--r--   1 ampower  staff   5013 Nov 23 22:21 n-riesco.global.ipynb\n",
      "-rw-r--r--   1 ampower  staff   4331 Nov 23 22:21 n-riesco.this.ipynb\n",
      "-rw-r--r--   1 ampower  staff    556 Nov 23 22:21 navbar.json\n",
      "drwxr-xr-x   8 ampower  staff    256 Nov 23 22:21 nbconvert/\n",
      "-rw-r--r--   1 ampower  staff   2331 Nov 23 22:21 overview.md\n",
      "-rw-r--r--   1 ampower  staff   3365 Nov 23 22:21 usage.md\n",
      "\n",
      "[ process 'ls -laF' exited with code 0 ]\n"
     ]
    },
    {
     "data": {
      "text/plain": [
       "0"
      ]
     },
     "execution_count": 9,
     "metadata": {},
     "output_type": "execute_result"
    }
   ],
   "source": [
    "!ls -laF"
   ]
  },
  {
   "cell_type": "code",
   "execution_count": 10,
   "metadata": {},
   "outputs": [
    {
     "name": "stdout",
     "output_type": "stream",
     "text": [
      "async.ipynb\n",
      "complete.md\n",
      "custom.ipynb\n",
      "hello.ipynb\n",
      "inspect.md\n",
      "install.md\n",
      "magicdemo.ipynb\n",
      "n-riesco.global.ipynb\n",
      "n-riesco.this.ipynb\n",
      "navbar.json\n",
      "nbconvert\n",
      "overview.md\n",
      "usage.md\n",
      "\n",
      "[ process 'ls' exited with code 0 ]\n"
     ]
    },
    {
     "data": {
      "text/plain": [
       "0"
      ]
     },
     "execution_count": 10,
     "metadata": {},
     "output_type": "execute_result"
    }
   ],
   "source": [
    "! ls"
   ]
  },
  {
   "cell_type": "code",
   "execution_count": 11,
   "metadata": {},
   "outputs": [
    {
     "name": "stdout",
     "output_type": "stream",
     "text": [
      "ijavascriptex@0.9.0 /Users/ampower/Projects/personal/ijavascriptex\n",
      "├─┬ debug@2.6.9\n",
      "│ └── ms@2.0.0\n",
      "├─┬ eslint@2.13.1\n",
      "│ ├─┬ chalk@1.1.3\n",
      "│ │ ├── ansi-styles@2.2.1\n",
      "│ │ ├── escape-string-regexp@1.0.5 deduped\n",
      "│ │ ├─┬ has-ansi@2.0.0\n",
      "│ │ │ └── ansi-regex@2.1.1 deduped\n",
      "│ │ ├─┬ strip-ansi@3.0.1\n",
      "│ │ │ └── ansi-regex@2.1.1 deduped\n",
      "│ │ └── supports-color@2.0.0\n",
      "│ ├─┬ concat-stream@1.6.2\n",
      "│ │ ├── buffer-from@1.1.1\n",
      "│ │ ├── inherits@2.0.4\n",
      "│ │ ├─┬ readable-stream@2.3.7\n",
      "│ │ │ ├── core-util-is@1.0.2\n",
      "│ │ │ ├── inherits@2.0.4 deduped\n",
      "│ │ │ ├── isarray@1.0.0 deduped\n",
      "│ │ │ ├── process-nextick-args@2.0.1\n",
      "│ │ │ ├── safe-buffer@5.1.2\n",
      "│ │ │ ├─┬ string_decoder@1.1.1\n",
      "│ │ │ │ └── safe-buffer@5.1.2 deduped\n",
      "│ │ │ └── util-deprecate@1.0.2\n",
      "│ │ └── typedarray@0.0.6\n",
      "│ ├── debug@2.6.9 deduped\n",
      "│ ├─┬ doctrine@1.5.0\n",
      "│ │ ├── esutils@2.0.3 deduped\n",
      "│ │ └── isarray@1.0.0\n",
      "│ ├─┬ es6-map@0.1.5\n",
      "│ │ ├─┬ d@1.0.1\n",
      "│ │ │ ├── es5-ext@0.10.53 deduped\n",
      "│ │ │ └── type@1.2.0\n",
      "│ │ ├─┬ es5-ext@0.10.53\n",
      "│ │ │ ├── es6-iterator@2.0.3 deduped\n",
      "│ │ │ ├── es6-symbol@3.1.3 deduped\n",
      "│ │ │ └── next-tick@1.0.0\n",
      "│ │ ├─┬ es6-iterator@2.0.3\n",
      "│ │ │ ├── d@1.0.1 deduped\n",
      "│ │ │ ├── es5-ext@0.10.53 deduped\n",
      "│ │ │ └── es6-symbol@3.1.3 deduped\n",
      "│ │ ├─┬ es6-set@0.1.5\n",
      "│ │ │ ├── d@1.0.1 deduped\n",
      "│ │ │ ├── es5-ext@0.10.53 deduped\n",
      "│ │ │ ├── es6-iterator@2.0.3 deduped\n",
      "│ │ │ ├─┬ es6-symbol@3.1.1\n",
      "│ │ │ │ ├── d@1.0.1 deduped\n",
      "│ │ │ │ └── es5-ext@0.10.53 deduped\n",
      "│ │ │ └── event-emitter@0.3.5 deduped\n",
      "│ │ ├─┬ es6-symbol@3.1.3\n",
      "│ │ │ ├── d@1.0.1 deduped\n",
      "│ │ │ └─┬ ext@1.4.0\n",
      "│ │ │   └── type@2.1.0\n",
      "│ │ └─┬ event-emitter@0.3.5\n",
      "│ │   ├── d@1.0.1 deduped\n",
      "│ │   └── es5-ext@0.10.53 deduped\n",
      "│ ├─┬ escope@3.6.0\n",
      "│ │ ├── es6-map@0.1.5 deduped\n",
      "│ │ ├─┬ es6-weak-map@2.0.3\n",
      "│ │ │ ├── d@1.0.1 deduped\n",
      "│ │ │ ├── es5-ext@0.10.53 deduped\n",
      "│ │ │ ├── es6-iterator@2.0.3 deduped\n",
      "│ │ │ └── es6-symbol@3.1.3 deduped\n",
      "│ │ ├─┬ esrecurse@4.3.0\n",
      "│ │ │ └── estraverse@5.2.0\n",
      "│ │ └── estraverse@4.3.0 deduped\n",
      "│ ├─┬ espree@3.5.4\n",
      "│ │ ├── acorn@5.7.4\n",
      "│ │ └─┬ acorn-jsx@3.0.1\n",
      "│ │   └── acorn@3.3.0\n",
      "│ ├── estraverse@4.3.0\n",
      "│ ├── esutils@2.0.3\n",
      "│ ├─┬ file-entry-cache@1.3.1\n",
      "│ │ ├─┬ flat-cache@1.3.4\n",
      "│ │ │ ├── circular-json@0.3.3\n",
      "│ │ │ ├── graceful-fs@4.2.4 deduped\n",
      "│ │ │ ├─┬ rimraf@2.6.3\n",
      "│ │ │ │ └── glob@7.1.6 deduped\n",
      "│ │ │ └─┬ write@0.2.1\n",
      "│ │ │   └── mkdirp@0.5.5 deduped\n",
      "│ │ └── object-assign@4.1.1\n",
      "│ ├─┬ glob@7.1.6\n",
      "│ │ ├── fs.realpath@1.0.0\n",
      "│ │ ├─┬ inflight@1.0.6\n",
      "│ │ │ ├── once@1.4.0 deduped\n",
      "│ │ │ └── wrappy@1.0.2\n",
      "│ │ ├── inherits@2.0.4 deduped\n",
      "│ │ ├─┬ minimatch@3.0.4\n",
      "│ │ │ └─┬ brace-expansion@1.1.11\n",
      "│ │ │   ├── balanced-match@1.0.0\n",
      "│ │ │   └── concat-map@0.0.1\n",
      "│ │ ├─┬ once@1.4.0\n",
      "│ │ │ └── wrappy@1.0.2 deduped\n",
      "│ │ └── path-is-absolute@1.0.1 deduped\n",
      "│ ├── globals@9.18.0\n",
      "│ ├── ignore@3.3.10\n",
      "│ ├── imurmurhash@0.1.4\n",
      "│ ├─┬ inquirer@0.12.0\n",
      "│ │ ├── ansi-escapes@1.4.0\n",
      "│ │ ├── ansi-regex@2.1.1\n",
      "│ │ ├── chalk@1.1.3 deduped\n",
      "│ │ ├─┬ cli-cursor@1.0.2\n",
      "│ │ │ └─┬ restore-cursor@1.0.1\n",
      "│ │ │   ├── exit-hook@1.1.1\n",
      "│ │ │   └── onetime@1.1.0\n",
      "│ │ ├── cli-width@2.2.1\n",
      "│ │ ├─┬ figures@1.7.0\n",
      "│ │ │ ├── escape-string-regexp@1.0.5 deduped\n",
      "│ │ │ └── object-assign@4.1.1 deduped\n",
      "│ │ ├── lodash@4.17.20 deduped\n",
      "│ │ ├─┬ readline2@1.0.1\n",
      "│ │ │ ├── code-point-at@1.1.0\n",
      "│ │ │ ├─┬ is-fullwidth-code-point@1.0.0\n",
      "│ │ │ │ └── number-is-nan@1.0.1\n",
      "│ │ │ └── mute-stream@0.0.5\n",
      "│ │ ├─┬ run-async@0.1.0\n",
      "│ │ │ └── once@1.4.0 deduped\n",
      "│ │ ├── rx-lite@3.1.2\n",
      "│ │ ├─┬ string-width@1.0.2\n",
      "│ │ │ ├── code-point-at@1.1.0 deduped\n",
      "│ │ │ ├── is-fullwidth-code-point@1.0.0 deduped\n",
      "│ │ │ └── strip-ansi@3.0.1 deduped\n",
      "│ │ ├── strip-ansi@3.0.1 deduped\n",
      "│ │ └── through@2.3.8\n",
      "│ ├─┬ is-my-json-valid@2.20.5\n",
      "│ │ ├─┬ generate-function@2.3.1\n",
      "│ │ │ └── is-property@1.0.2\n",
      "│ │ ├─┬ generate-object-property@1.2.0\n",
      "│ │ │ └── is-property@1.0.2 deduped\n",
      "│ │ ├── is-my-ip-valid@1.0.0\n",
      "│ │ ├── jsonpointer@4.1.0\n",
      "│ │ └── xtend@4.0.2\n",
      "│ ├── is-resolvable@1.1.0\n",
      "│ ├─┬ js-yaml@3.14.0\n",
      "│ │ ├─┬ argparse@1.0.10\n",
      "│ │ │ └── sprintf-js@1.0.3\n",
      "│ │ └── esprima@4.0.1\n",
      "│ ├─┬ json-stable-stringify@1.0.1\n",
      "│ │ └── jsonify@0.0.0\n",
      "│ ├─┬ levn@0.3.0\n",
      "│ │ ├── prelude-ls@1.1.2\n",
      "│ │ └─┬ type-check@0.3.2\n",
      "│ │   └── prelude-ls@1.1.2 deduped\n",
      "│ ├── lodash@4.17.20\n",
      "│ ├─┬ mkdirp@0.5.5\n",
      "│ │ └── minimist@1.2.5\n",
      "│ ├─┬ optionator@0.8.3\n",
      "│ │ ├── deep-is@0.1.3\n",
      "│ │ ├── fast-levenshtein@2.0.6\n",
      "│ │ ├── levn@0.3.0 deduped\n",
      "│ │ ├── prelude-ls@1.1.2 deduped\n",
      "│ │ ├── type-check@0.3.2 deduped\n",
      "│ │ └── word-wrap@1.2.3\n",
      "│ ├── path-is-absolute@1.0.1\n",
      "│ ├── path-is-inside@1.0.2\n",
      "│ ├── pluralize@1.2.1\n",
      "│ ├── progress@1.1.8\n",
      "│ ├─┬ require-uncached@1.0.3\n",
      "│ │ ├─┬ caller-path@0.1.0\n",
      "│ │ │ └── callsites@0.2.0\n",
      "│ │ └── resolve-from@1.0.1\n",
      "│ ├── shelljs@0.6.1\n",
      "│ ├── strip-json-comments@1.0.4\n",
      "│ ├─┬ table@3.8.3\n",
      "│ │ ├─┬ ajv@4.11.8\n",
      "│ │ │ ├── co@4.6.0\n",
      "│ │ │ └── json-stable-stringify@1.0.1 deduped\n",
      "│ │ ├── ajv-keywords@1.5.1\n",
      "│ │ ├── chalk@1.1.3 deduped\n",
      "│ │ ├── lodash@4.17.20 deduped\n",
      "│ │ ├── slice-ansi@0.0.4\n",
      "│ │ └─┬ string-width@2.1.1\n",
      "│ │   ├── is-fullwidth-code-point@2.0.0\n",
      "│ │   └─┬ strip-ansi@4.0.0\n",
      "│ │     └── ansi-regex@3.0.0\n",
      "│ ├── text-table@0.2.0\n",
      "│ └─┬ user-home@2.0.0\n",
      "│   └── os-homedir@1.0.2\n",
      "├─┬ jmp@2.0.0\n",
      "│ ├── uuid@3.4.0 deduped\n",
      "│ └─┬ zeromq@5.2.0\n",
      "│   ├── nan@2.14.2\n",
      "│   └─┬ prebuild-install@5.3.6\n",
      "│     ├── detect-libc@1.0.3\n",
      "│     ├── expand-template@2.0.3\n",
      "│     ├── github-from-package@0.0.0\n",
      "│     ├── minimist@1.2.5 deduped\n",
      "│     ├── mkdirp-classic@0.5.3\n",
      "│     ├── napi-build-utils@1.0.2\n",
      "│     ├─┬ node-abi@2.19.3\n",
      "│     │ └── semver@5.7.1\n",
      "│     ├── noop-logger@0.1.1\n",
      "│     ├─┬ npmlog@4.1.2\n",
      "│     │ ├─┬ are-we-there-yet@1.1.5\n",
      "│     │ │ ├── delegates@1.0.0\n",
      "│     │ │ └── readable-stream@2.3.7 deduped\n",
      "│     │ ├── console-control-strings@1.1.0\n",
      "│     │ ├─┬ gauge@2.7.4\n",
      "│     │ │ ├── aproba@1.2.0\n",
      "│     │ │ ├── console-control-strings@1.1.0 deduped\n",
      "│     │ │ ├── has-unicode@2.0.1\n",
      "│     │ │ ├── object-assign@4.1.1 deduped\n",
      "│     │ │ ├── signal-exit@3.0.3\n",
      "│     │ │ ├── string-width@1.0.2 deduped\n",
      "│     │ │ ├── strip-ansi@3.0.1 deduped\n",
      "│     │ │ └─┬ wide-align@1.1.3\n",
      "│     │ │   └── string-width@1.0.2 deduped\n",
      "│     │ └── set-blocking@2.0.0\n",
      "│     ├─┬ pump@3.0.0\n",
      "│     │ ├─┬ end-of-stream@1.4.4\n",
      "│     │ │ └── once@1.4.0 deduped\n",
      "│     │ └── once@1.4.0 deduped\n",
      "│     ├─┬ rc\n",
      "@1.2.8\n",
      "│     │ ├── deep-extend@0.6.0\n",
      "│     │ ├── ini@1.3.5\n",
      "│     │ ├── minimist@1.2.5 deduped\n",
      "│     │ └── strip-json-comments@2.0.1\n",
      "│     ├─┬ simple-get@3.1.0\n",
      "│     │ ├─┬ decompress-response@4.2.1\n",
      "│     │ │ └── mimic-response@2.1.0\n",
      "│     │ ├── once@1.4.0 deduped\n",
      "│     │ └── simple-concat@1.0.1\n",
      "│     ├─┬ tar-fs@2.1.1\n",
      "│     │ ├── chownr@1.1.4\n",
      "│     │ ├── mkdirp-classic@0.5.3 deduped\n",
      "│     │ ├── pump@3.0.0 deduped\n",
      "│     │ └─┬ tar-stream@2.1.4\n",
      "│     │   ├─┬ bl@4.0.3\n",
      "│     │   │ ├─┬ buffer@5.7.1\n",
      "│     │   │ │ ├── base64-js@1.5.1\n",
      "│     │   │ │ └── ieee754@1.2.1\n",
      "│     │   │ ├── inherits@2.0.4 deduped\n",
      "│     │   │ └─┬ readable-stream@3.6.0\n",
      "│     │   │   ├── inherits@2.0.4 deduped\n",
      "│     │   │   ├── string_decoder@1.1.1 deduped\n",
      "│     │   │   └── util-deprecate@1.0.2 deduped\n",
      "│     │   ├── end-of-stream@1.4.4 deduped\n",
      "│     │   ├── fs-constants@1.0.0\n",
      "│     │   ├── inherits@2.0.4 deduped\n",
      "│     │   └─┬ readable-stream@3.6.0\n",
      "│     │     ├── inherits@2.0.4 deduped\n",
      "│     │     ├── string_decoder@1.1.1 deduped\n",
      "│     │     └── util-deprecate@1.0.2 deduped\n",
      "│     ├─┬ tunnel-agent@0.6.0\n",
      "│     │ └── safe-buffer@5.1.2 deduped\n",
      "│     └── which-pm-runs@1.0.0\n",
      "├─┬ jp-kernel@2.0.0\n",
      "│ ├── jmp@2.0.0 deduped\n",
      "│ ├── nel@1.1.0\n",
      "│ └── uuid@3.4.0 deduped\n",
      "├─┬ jsdoc@3.6.6\n",
      "│ ├── @babel/parser@7.12.7\n",
      "│ ├── bluebird@3.7.2\n",
      "│ ├─┬ catharsis@0.8.11\n",
      "│ │ └── lodash@4.17.20 deduped\n",
      "│ ├── escape-string-regexp@2.0.0\n",
      "│ ├─┬ js2xmlparser@4.0.1\n",
      "│ │ └── xmlcreate@2.0.3\n",
      "│ ├─┬ klaw@3.0.0\n",
      "│ │ └── graceful-fs@4.2.4\n",
      "│ ├─┬ markdown-it@10.0.0\n",
      "│ │ ├── argparse@1.0.10 deduped\n",
      "│ │ ├── entities@2.0.3\n",
      "│ │ ├─┬ linkify-it@2.2.0\n",
      "│ │ │ └── uc.micro@1.0.6 deduped\n",
      "│ │ ├── mdurl@1.0.1\n",
      "│ │ └── uc.micro@1.0.6\n",
      "│ ├── markdown-it-anchor@5.3.0\n",
      "│ ├── marked@0.8.2\n",
      "│ ├── mkdirp@1.0.4\n",
      "│ ├─┬ requizzle@0.2.3\n",
      "│ │ └── lodash@4.17.20 deduped\n",
      "│ ├── strip-json-comments@3.1.1\n",
      "│ ├── taffydb@2.6.2\n",
      "│ └── underscore@1.10.2\n",
      "├─┬ mocha@3.5.3\n",
      "│ ├── browser-stdout@1.3.0\n",
      "│ ├─┬ commander@2.9.0\n",
      "│ │ └── graceful-readlink@1.0.1\n",
      "│ ├─┬ debug@2.6.8\n",
      "│ │ └── ms@2.0.0 deduped\n",
      "│ ├── diff@3.2.0\n",
      "│ ├── escape-string-regexp@1.0.5\n",
      "│ ├─┬ glob@7.1.1\n",
      "│ │ ├── fs.realpath@1.0.0 deduped\n",
      "│ │ ├── inflight@1.0.6 deduped\n",
      "│ │ ├── inherits@2.0.4 deduped\n",
      "│ │ ├── minimatch@3.0.4 deduped\n",
      "│ │ ├── once@1.4.0 deduped\n",
      "│ │ └── path-is-absolute@1.0.1 deduped\n",
      "│ ├── growl@1.9.2\n",
      "│ ├── he@1.1.1\n",
      "│ ├── json3@3.3.2\n",
      "│ ├─┬ lodash.create@3.1.1\n",
      "│ │ ├─┬ lodash._baseassign@3.2.0\n",
      "│ │ │ ├── lodash._basecopy@3.0.1\n",
      "│ │ │ └─┬ lodash.keys@3.1.2\n",
      "│ │ │   ├── lodash._getnative@3.9.1\n",
      "│ │ │   ├── lodash.isarguments@3.1.0\n",
      "│ │ │   └── lodash.isarray@3.0.4\n",
      "│ │ ├── lodash._basecreate@3.0.3\n",
      "│ │ └── lodash._isiterateecall@3.0.9\n",
      "│ ├─┬ mkdirp@0.5.1\n",
      "│ │ └── minimist@0.0.8\n",
      "│ └─┬ supports-color@3.1.2\n",
      "│   └── has-flag@1.0.0\n",
      "└── uuid@3.4.0\n",
      "\n",
      "\n"
     ]
    },
    {
     "name": "stdout",
     "output_type": "stream",
     "text": [
      "[ process 'npm ls' exited with code 0 ]\n"
     ]
    },
    {
     "data": {
      "text/plain": [
       "0"
      ]
     },
     "execution_count": 11,
     "metadata": {},
     "output_type": "execute_result"
    }
   ],
   "source": [
    "!npm ls"
   ]
  },
  {
   "cell_type": "markdown",
   "metadata": {},
   "source": [
    "## %load_magic"
   ]
  },
  {
   "cell_type": "markdown",
   "metadata": {},
   "source": [
    "This built-in magic loads a list of magics from a node.js module. The module is expected to return an array of objects, where each object describes the magic to be added. For example:\n",
    "\n",
    "``` js\n",
    "module.exports = [\n",
    "    {\n",
    "        cmd: \"add\",\n",
    "        name: \"%ping\",\n",
    "        fn: pingFn,\n",
    "        help: \"Just prints 'pong'\",\n",
    "    },\n",
    "    /* ... etc ... */\n",
    "];\n",
    "```"
   ]
  },
  {
   "cell_type": "code",
   "execution_count": 12,
   "metadata": {},
   "outputs": [
    {
     "name": "stdout",
     "output_type": "stream",
     "text": [
      "load complete: 125 instructions performed\n"
     ]
    }
   ],
   "source": [
    "%load_magic ../stdmagic.js"
   ]
  },
  {
   "cell_type": "code",
   "execution_count": 13,
   "metadata": {},
   "outputs": [
    {
     "name": "stdout",
     "output_type": "stream",
     "text": [
      "pong\n"
     ]
    }
   ],
   "source": [
    "%ping"
   ]
  },
  {
   "cell_type": "code",
   "execution_count": 14,
   "metadata": {},
   "outputs": [
    {
     "name": "stdout",
     "output_type": "stream",
     "text": [
      "async.ipynb\n",
      "complete.md\n",
      "custom.ipynb\n",
      "hello.ipynb\n",
      "inspect.md\n",
      "install.md\n",
      "magicdemo.ipynb\n",
      "n-riesco.global.ipynb\n",
      "n-riesco.this.ipynb\n",
      "navbar.json\n",
      "nbconvert\n",
      "overview.md\n",
      "usage.md\n",
      "\n",
      "[ process 'ls' exited with code 0 ]\n"
     ]
    },
    {
     "data": {
      "text/plain": [
       "0"
      ]
     },
     "execution_count": 14,
     "metadata": {},
     "output_type": "execute_result"
    }
   ],
   "source": [
    "%ls"
   ]
  },
  {
   "cell_type": "code",
   "execution_count": 15,
   "metadata": {},
   "outputs": [
    {
     "name": "stdout",
     "output_type": "stream",
     "text": [
      "total 200\n",
      "drwxr-xr-x  16 ampower  staff    512 Nov 27 15:37 ./\n",
      "drwxr-xr-x  25 ampower  staff    800 Nov 27 15:23 ../\n",
      "drwxr-xr-x   3 ampower  staff     96 Nov 27 15:27 .ipynb_checkpoints/\n",
      "-rw-r--r--   1 ampower  staff   7162 Nov 23 22:21 async.ipynb\n",
      "-rw-r--r--   1 ampower  staff    548 Nov 23 22:21 complete.md\n",
      "-rw-r--r--   1 ampower  staff  14345 Nov 23 22:21 custom.ipynb\n",
      "-rw-r--r--   1 ampower  staff   3041 Nov 23 22:21 hello.ipynb\n",
      "-rw-r--r--   1 ampower  staff    491 Nov 23 22:21 inspect.md\n",
      "-rw-r--r--   1 ampower  staff   8001 Nov 23 22:21 install.md\n",
      "-rw-r--r--   1 ampower  staff  27117 Nov 27 15:37 magicdemo.ipynb\n",
      "-rw-r--r--   1 ampower  staff   5013 Nov 23 22:21 n-riesco.global.ipynb\n",
      "-rw-r--r--   1 ampower  staff   4331 Nov 23 22:21 n-riesco.this.ipynb\n",
      "-rw-r--r--   1 ampower  staff    556 Nov 23 22:21 navbar.json\n",
      "drwxr-xr-x   8 ampower  staff    256 Nov 23 22:21 nbconvert/\n",
      "-rw-r--r--   1 ampower  staff   2331 Nov 23 22:21 overview.md\n",
      "-rw-r--r--   1 ampower  staff   3365 Nov 23 22:21 usage.md\n",
      "\n",
      "[ process 'ls -laF' exited with code 0 ]\n"
     ]
    },
    {
     "data": {
      "text/plain": [
       "0"
      ]
     },
     "execution_count": 15,
     "metadata": {},
     "output_type": "execute_result"
    }
   ],
   "source": [
    "%ls -laF"
   ]
  },
  {
   "cell_type": "code",
   "execution_count": 16,
   "metadata": {},
   "outputs": [
    {
     "name": "stdout",
     "output_type": "stream",
     "text": [
      "Available line magics:\n",
      "!cmd %addcmd %echo %foo %load_magic %ls %lsmagic %name %ping\n"
     ]
    }
   ],
   "source": [
    "%lsmagic"
   ]
  },
  {
   "cell_type": "markdown",
   "metadata": {},
   "source": [
    "##  {var} substitution"
   ]
  },
  {
   "cell_type": "markdown",
   "metadata": {},
   "source": [
    "Using {var} will be replaced with the variable `var`. Note this is currently vary flakey due to limitations of accessing variable values from the IJavascript kernel."
   ]
  },
  {
   "cell_type": "code",
   "execution_count": 17,
   "metadata": {},
   "outputs": [
    {
     "name": "stdout",
     "output_type": "stream",
     "text": [
      "42\n",
      "{ beer: 'yum' }\n",
      "x42o[object Object]\n"
     ]
    }
   ],
   "source": [
    "x = 42\n",
    "o = {\n",
    "    beer: \"yum\"\n",
    "}\n",
    "%echo {x}\n",
    "%echo {o}\n",
    "%echo x{x}o{o}"
   ]
  },
  {
   "cell_type": "code",
   "execution_count": 18,
   "metadata": {},
   "outputs": [
    {
     "name": "stdout",
     "output_type": "stream",
     "text": [
      "3x\n"
     ]
    }
   ],
   "source": [
    "x = 3\n",
    "%echo {x}x"
   ]
  },
  {
   "cell_type": "markdown",
   "metadata": {},
   "source": [
    "# These tests should fail"
   ]
  },
  {
   "cell_type": "code",
   "execution_count": 19,
   "metadata": {},
   "outputs": [
    {
     "name": "stderr",
     "output_type": "stream",
     "text": [
      "addcmd expected new command to start with a symbol like '%' or '.' but got 'foo'\n"
     ]
    }
   ],
   "source": [
    "%addcmd foo bar"
   ]
  },
  {
   "cell_type": "code",
   "execution_count": 20,
   "metadata": {},
   "outputs": [
    {
     "name": "stderr",
     "output_type": "stream",
     "text": [
      "addcmd expected exactly two arguments but got: 'x'\n"
     ]
    }
   ],
   "source": [
    "%addcmd x"
   ]
  },
  {
   "cell_type": "code",
   "execution_count": 21,
   "metadata": {},
   "outputs": [
    {
     "name": "stderr",
     "output_type": "stream",
     "text": [
      "addcmd expected exactly two arguments but got: 'a,b,c'\n"
     ]
    }
   ],
   "source": [
    "%addcmd a b c"
   ]
  },
  {
   "cell_type": "code",
   "execution_count": 22,
   "metadata": {},
   "outputs": [
    {
     "name": "stderr",
     "output_type": "stream",
     "text": [
      "Sorry, the magic '%cd' is not implemented (yet).\n"
     ]
    }
   ],
   "source": [
    "%cd"
   ]
  },
  {
   "cell_type": "code",
   "execution_count": 23,
   "metadata": {},
   "outputs": [
    {
     "name": "stderr",
     "output_type": "stream",
     "text": [
      "UsageError: Line magic function '%blah' not found.\n"
     ]
    }
   ],
   "source": [
    "%blah"
   ]
  },
  {
   "cell_type": "code",
   "execution_count": 24,
   "metadata": {},
   "outputs": [
    {
     "name": "stderr",
     "output_type": "stream",
     "text": [
      "UsageError: Cell magic '%%bar' not found.\n"
     ]
    }
   ],
   "source": [
    "%%bar"
   ]
  },
  {
   "cell_type": "code",
   "execution_count": 25,
   "metadata": {},
   "outputs": [
    {
     "name": "stderr",
     "output_type": "stream",
     "text": [
      "couldn't load module:Cannot find module '/Users/ampower/Projects/personal/ijavascriptex/doc/doesnotexist'\n",
      "Require stack:\n",
      "- /Users/ampower/Projects/personal/ijavascriptex/lib/ex.js\n",
      "- /Users/ampower/Projects/personal/ijavascriptex/lib/kernel.js\n"
     ]
    }
   ],
   "source": [
    "%load_magic ./doesnotexist"
   ]
  },
  {
   "cell_type": "code",
   "execution_count": null,
   "metadata": {},
   "outputs": [],
   "source": []
  }
 ],
 "metadata": {
  "kernelspec": {
   "display_name": "JavaScriptEX (Node.js)",
   "language": "javascriptex",
   "name": "javascriptex"
  },
  "language_info": {
   "file_extension": ".js",
   "mimetype": "application/javascript",
   "name": "javascript",
   "version": "14.8.0"
  }
 },
 "nbformat": 4,
 "nbformat_minor": 4
}
